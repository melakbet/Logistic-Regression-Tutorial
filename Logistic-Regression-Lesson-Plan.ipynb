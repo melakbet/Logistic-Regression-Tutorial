{
 "cells": [
  {
   "cell_type": "code",
   "execution_count": 13,
   "metadata": {
    "collapsed": true
   },
   "outputs": [],
   "source": [
    "# BEFORE THE WORKSHOP:\n",
    "\n",
    "# 1. Activate your conda environment: (source) activate caispp\n",
    "# 2. Run: conda install nb_conda\n",
    "# 3. Run: pip install matplotlib, pip install pandas\n",
    "# 4. Reactivate environment: source deactivate caispp, source activate caispp\n",
    "# 5. Run: jupyter notebook"
   ]
  },
  {
   "cell_type": "code",
   "execution_count": 14,
   "metadata": {
    "collapsed": true
   },
   "outputs": [],
   "source": [
    "import pandas as pd\n",
    "\n",
    "# Get ready to read in dataset\n",
    "headers = ['# pregnant', 'Plasma glucose concentration', 'blood pressure', 'skin fold thickness', 'insulin', \\\n",
    "           'bmi', 'Diabetes pedigree', 'age', 'label']"
   ]
  },
  {
   "cell_type": "code",
   "execution_count": 15,
   "metadata": {
    "collapsed": false
   },
   "outputs": [],
   "source": [
    "diabetes_df = pd.read_csv('pima-indians-diabetes.data.txt', names=headers)"
   ]
  },
  {
   "cell_type": "code",
   "execution_count": 16,
   "metadata": {
    "collapsed": false
   },
   "outputs": [
    {
     "data": {
      "text/html": [
       "<div>\n",
       "<table border=\"1\" class=\"dataframe\">\n",
       "  <thead>\n",
       "    <tr style=\"text-align: right;\">\n",
       "      <th></th>\n",
       "      <th># pregnant</th>\n",
       "      <th>Plasma glucose concentration</th>\n",
       "      <th>blood pressure</th>\n",
       "      <th>skin fold thickness</th>\n",
       "      <th>insulin</th>\n",
       "      <th>bmi</th>\n",
       "      <th>Diabetes pedigree</th>\n",
       "      <th>age</th>\n",
       "      <th>label</th>\n",
       "    </tr>\n",
       "  </thead>\n",
       "  <tbody>\n",
       "    <tr>\n",
       "      <th>0</th>\n",
       "      <td>6</td>\n",
       "      <td>148</td>\n",
       "      <td>72</td>\n",
       "      <td>35</td>\n",
       "      <td>0</td>\n",
       "      <td>33.6</td>\n",
       "      <td>0.627</td>\n",
       "      <td>50</td>\n",
       "      <td>1</td>\n",
       "    </tr>\n",
       "    <tr>\n",
       "      <th>1</th>\n",
       "      <td>1</td>\n",
       "      <td>85</td>\n",
       "      <td>66</td>\n",
       "      <td>29</td>\n",
       "      <td>0</td>\n",
       "      <td>26.6</td>\n",
       "      <td>0.351</td>\n",
       "      <td>31</td>\n",
       "      <td>0</td>\n",
       "    </tr>\n",
       "    <tr>\n",
       "      <th>2</th>\n",
       "      <td>8</td>\n",
       "      <td>183</td>\n",
       "      <td>64</td>\n",
       "      <td>0</td>\n",
       "      <td>0</td>\n",
       "      <td>23.3</td>\n",
       "      <td>0.672</td>\n",
       "      <td>32</td>\n",
       "      <td>1</td>\n",
       "    </tr>\n",
       "    <tr>\n",
       "      <th>3</th>\n",
       "      <td>1</td>\n",
       "      <td>89</td>\n",
       "      <td>66</td>\n",
       "      <td>23</td>\n",
       "      <td>94</td>\n",
       "      <td>28.1</td>\n",
       "      <td>0.167</td>\n",
       "      <td>21</td>\n",
       "      <td>0</td>\n",
       "    </tr>\n",
       "    <tr>\n",
       "      <th>4</th>\n",
       "      <td>0</td>\n",
       "      <td>137</td>\n",
       "      <td>40</td>\n",
       "      <td>35</td>\n",
       "      <td>168</td>\n",
       "      <td>43.1</td>\n",
       "      <td>2.288</td>\n",
       "      <td>33</td>\n",
       "      <td>1</td>\n",
       "    </tr>\n",
       "  </tbody>\n",
       "</table>\n",
       "</div>"
      ],
      "text/plain": [
       "   # pregnant  Plasma glucose concentration  blood pressure  \\\n",
       "0           6                           148              72   \n",
       "1           1                            85              66   \n",
       "2           8                           183              64   \n",
       "3           1                            89              66   \n",
       "4           0                           137              40   \n",
       "\n",
       "   skin fold thickness  insulin   bmi  Diabetes pedigree  age  label  \n",
       "0                   35        0  33.6              0.627   50      1  \n",
       "1                   29        0  26.6              0.351   31      0  \n",
       "2                    0        0  23.3              0.672   32      1  \n",
       "3                   23       94  28.1              0.167   21      0  \n",
       "4                   35      168  43.1              2.288   33      1  "
      ]
     },
     "execution_count": 16,
     "metadata": {},
     "output_type": "execute_result"
    }
   ],
   "source": [
    "diabetes_df.head()"
   ]
  },
  {
   "cell_type": "code",
   "execution_count": 17,
   "metadata": {
    "collapsed": true
   },
   "outputs": [],
   "source": [
    "# for use later\n",
    "num_features = 8"
   ]
  },
  {
   "cell_type": "code",
   "execution_count": 18,
   "metadata": {
    "collapsed": false
   },
   "outputs": [
    {
     "name": "stdout",
     "output_type": "stream",
     "text": [
      "[1 0 1 0 1 0 1 0 1 1 0 1 0 1 1 1 1 1 0 1 0 0 1 1 1 1 1 0 0 0 0 1 0 0 0 0 0\n",
      " 1 1 1 0 0 0 1 0 1 0 0 1 0 0 0 0 1 0 0 1 0 0 0 0 1 0 0 1 0 1 0 0 0 1 0 1 0\n",
      " 0 0 0 0 1 0 0 0 0 0 1 0 0 0 1 0 0 0 0 1 0 0 0 0 0 1 1 0 0 0 0 0 0 0 0 1 1\n",
      " 1 0 0 1 1 1 0 0 0 1 0 0 0 1 1 0 0 1 1 1 1 1 0 0 0 0 0 0 0 0 0 0 1 0 0 0 0\n",
      " 0 0 0 0 1 0 1 1 0 0 0 1 0 0 0 0 1 1 0 0 0 0 1 1 0 0 0 1 0 1 0 1 0 0 0 0 0\n",
      " 1 1 1 1 1 0 0 1 1 0 1 0 1 1 1 0 0 0 0 0 0 1 1 0 1 0 0 0 1 1 1 1 0 1 1 1 1\n",
      " 0 0 0 0 0 1 0 0 1 1 0 0 0 1 1 1 1 0 0 0 1 1 0 1 0 0 0 0 0 0 0 0 1 1 0 0 0\n",
      " 1 0 1 0 0 1 0 1 0 0 1 1 0 0 0 0 0 1 0 0 0 1 0 0 1 1 0 0 1 0 0 0 1 1 1 0 0\n",
      " 1 0 1 0 1 1 0 1 0 0 1 0 1 1 0 0 1 0 1 0 0 1 0 1 0 1 1 1 0 0 1 0 1 0 0 0 1\n",
      " 0 0 0 0 1 1 1 0 0 0 0 0 0 0 0 0 1 0 0 0 0 0 1 1 1 0 1 1 0 0 1 0 0 1 0 0 1\n",
      " 1 0 0 0 0 1 0 0 1 0 0 0 0 0 0 0 1 1 1 0 0 1 0 0 1 0 0 1 0 1 1 0 1 0 1 0 1\n",
      " 0 1 1 0 0 0 0 1 1 0 1 0 1 0 0 0 0 1 1 0 1 0 1 0 0 0 0 0 1 0 0 0 0 1 0 0 1\n",
      " 1 1 0 0 1 0 0 1 0 0 0 1 0 0 1 0 0 0 0 0 0 0 0 0 1 0 0 0 0 0 0 0 1 0 0 0 1\n",
      " 0 0 0 1 1 0 0 0 0 0 0 0 1 0 0 0 0 1 0 0 0 1 0 0 0 1 0 0 0 1 0 0 0 0 1 1 0\n",
      " 0 0 0 0 0 1 0 0 0 0 0 0 0 0 0 0 0 1 0 0 0 1 1 1 1 0 0 1 1 0 0 0 0 0 0 0 0\n",
      " 0 0 0 0 0 1 1 0 0 0 0 0 0 0 1 0 0 0 0 0 0 0 1 0 1 1 0 0 0 1 0 1 0 1 0 1 0\n",
      " 1 0 0 1 0 0 1 0 0 0 0 1 1 0 1 0 0 0 0 1 1 0 1 0 0 0 1 1 0 0 0 0 0 0 0 0 0\n",
      " 0 1 0 0 0 0 1 0 0 1 0 0 0 1 0 0 0 1 1 1 0 0 0 0 0 0 1 0 0 0 1 0 1 1 1 1 0\n",
      " 1 1 0 0 0 0 0 0 0 1 1 0 1 0 0 1 0 1 0 0 0 0 0 1 0 1 0 1 0 1 1 0 0 0 0 1 1\n",
      " 0 0 0 1 0 1 1 0 0 1 0 0 1 1 0 0 1 0 0 1 0 0 0 0 0 0 0 1 1 1 0 0 0 0 0 0 1\n",
      " 1 0 0 1 0 0 1 0 1 1 1 0 0 1 1 1 0 1 0 1 0 1 0 0 0 0 1 0]\n"
     ]
    }
   ],
   "source": [
    "# \"1\" = diabetes, \"0\" = no diabetes\n",
    "labels = diabetes_df['label'].values\n",
    "print(labels)"
   ]
  },
  {
   "cell_type": "code",
   "execution_count": 19,
   "metadata": {
    "collapsed": true
   },
   "outputs": [],
   "source": [
    "import numpy as np\n",
    "\n",
    "# Convert output from numerical (0 or 1) to categorical (one-hot vector encoding)\n",
    "def to_categorical(y, nb_classes):\n",
    "    \"\"\" to_categorical.\n",
    "\n",
    "    Convert class vector (integers from 0 to nb_classes)\n",
    "    to binary class matrix, for use with categorical_crossentropy.\n",
    "\n",
    "    Arguments:\n",
    "        y: `array`. Class vector to convert.\n",
    "        nb_classes: `int`. Total number of classes.\n",
    "\n",
    "    \"\"\"\n",
    "    y = np.asarray(y, dtype='int32')\n",
    "    if not nb_classes:\n",
    "        nb_classes = np.max(y)+1\n",
    "    Y = np.zeros((len(y), nb_classes))\n",
    "    Y[np.arange(len(y)),y] = 1.\n",
    "    return Y"
   ]
  },
  {
   "cell_type": "code",
   "execution_count": 20,
   "metadata": {
    "collapsed": false
   },
   "outputs": [
    {
     "name": "stdout",
     "output_type": "stream",
     "text": [
      "[[ 0.  1.]\n",
      " [ 1.  0.]\n",
      " [ 0.  1.]\n",
      " ..., \n",
      " [ 1.  0.]\n",
      " [ 0.  1.]\n",
      " [ 1.  0.]]\n",
      "(768, 2)\n"
     ]
    }
   ],
   "source": [
    "# Convert diabetes labels to categorical output\n",
    "# Left column: no diabetes | Right column: has diabetes\n",
    "\n",
    "labels = to_categorical(labels,2)\n",
    "labels = labels.astype(np.float32, copy = False)\n",
    "print(labels)\n",
    "print(labels.shape)"
   ]
  },
  {
   "cell_type": "code",
   "execution_count": 21,
   "metadata": {
    "collapsed": false
   },
   "outputs": [
    {
     "name": "stdout",
     "output_type": "stream",
     "text": [
      "(768, 8)\n"
     ]
    }
   ],
   "source": [
    "# Extract feature vectors array from the pandas dataframe\n",
    "data = diabetes_df.iloc[:,:8].values\n",
    "data = data.astype(np.float32, copy = False)\n",
    "print(data.shape)"
   ]
  },
  {
   "cell_type": "code",
   "execution_count": 22,
   "metadata": {
    "collapsed": false,
    "scrolled": true
   },
   "outputs": [
    {
     "name": "stdout",
     "output_type": "stream",
     "text": [
      "[[ 0.12676165  0.13620839  0.02372567 ...,  0.02395559  0.06410069\n",
      "   0.20690264]\n",
      " [-0.167356   -0.18037453 -0.02545466 ..., -0.08036629 -0.04994887\n",
      "  -0.02766527]\n",
      " [ 0.24440873  0.31208777 -0.0418481  ..., -0.12954664  0.08269574\n",
      "  -0.01531959]\n",
      " ..., \n",
      " [ 0.06793812  0.00052999  0.02372567 ..., -0.08632754 -0.09375053\n",
      "  -0.04001095]\n",
      " [-0.167356    0.02565562 -0.07463499 ..., -0.02820534 -0.05077532\n",
      "   0.16986559]\n",
      " [-0.167356   -0.14017352  0.00733222 ..., -0.02373441 -0.06482492\n",
      "  -0.12643071]]\n"
     ]
    }
   ],
   "source": [
    "# Normalize the input data: mean-centered, bounded by 1\n",
    "# For each feature: calculate mean and max\n",
    "    # Subtract mean, divide by maximum\n",
    "\n",
    "for i in range(num_features):\n",
    "    feature_avg = np.mean(data[:, i])\n",
    "    feature_max = np.amax(data[:, i])\n",
    "    data[:, i] = (data[:, i]-feature_avg)/feature_max\n",
    "\n",
    "print(data)"
   ]
  },
  {
   "cell_type": "code",
   "execution_count": 23,
   "metadata": {
    "collapsed": false
   },
   "outputs": [
    {
     "name": "stdout",
     "output_type": "stream",
     "text": [
      "(68, 2)\n"
     ]
    }
   ],
   "source": [
    "# Train-test split\n",
    "train_x = data[:700]\n",
    "train_y = labels[:700]\n",
    "test_x = data[700:]\n",
    "test_y = labels[700:]\n",
    "print(test_y.shape)"
   ]
  },
  {
   "cell_type": "code",
   "execution_count": 24,
   "metadata": {
    "collapsed": true
   },
   "outputs": [],
   "source": [
    "import tensorflow as tf"
   ]
  },
  {
   "cell_type": "code",
   "execution_count": 25,
   "metadata": {
    "collapsed": true
   },
   "outputs": [],
   "source": [
    "# Batch gradient descent: randomly sample from the training set, use gradient descent on that sample\n",
    "# Then: repeat sampling/training ___ times\n",
    "\n",
    "def generate_batch(batch_size):\n",
    "    indexes = np.random.randint(699, size = (batch_size,))\n",
    "    return train_x[indexes], train_y[indexes]"
   ]
  },
  {
   "cell_type": "code",
   "execution_count": 13,
   "metadata": {
    "collapsed": false
   },
   "outputs": [],
   "source": [
    "# --- Set up the TensorFlow variables ---\n",
    "# (Add variables to TensorFlow's computational graph)\n",
    "\n",
    "# Reset the graph\n",
    "tf.reset_default_graph()\n",
    "\n",
    "# Input placeholder (8 features)\n",
    "    # TODO: fill in this line\n",
    "\n",
    "# Weights variable (8 features x 2 output categories)\n",
    "    # Use xavier_initializer (a commonly used type of weight initialization)\n",
    "        # random values centered around 0\n",
    "    # TODO: fill in this line\n",
    "\n",
    "# Biases variable: initialized to zero\n",
    "    # TODO: fill in this line\n",
    "\n",
    "# Define prediction (y) operation\n",
    "# Uses the softmax activation function: \n",
    "    # Similar to sigmoid (outputs between 0-1), but also makes sure both outputted probabilities add up to 1\n",
    "    # TODO: fill this line in\n",
    "\n",
    "# y_: actual labels\n",
    "y_ = tf.placeholder(tf.float32, [None, 2])\n",
    "\n",
    "# Define loss function: cross-entropy loss\n",
    "loss = tf.reduce_mean(-tf.reduce_sum(y_ * tf.log(y), reduction_indices=[1]))"
   ]
  },
  {
   "cell_type": "code",
   "execution_count": 14,
   "metadata": {
    "collapsed": false
   },
   "outputs": [
    {
     "data": {
      "image/png": "[encoded data removed]",
      "text/plain": [
       "<matplotlib.figure.Figure at 0x113cf10f0>"
      ]
     },
     "metadata": {},
     "output_type": "display_data"
    }
   ],
   "source": [
    "# As a refresher, here's what the sigmoid function looks like; squashes input between 0 and 1 \n",
    "# which makes it great for classification\n",
    "import math\n",
    "import matplotlib.pyplot as plt\n",
    "def sigmoid(x):\n",
    "    a = []\n",
    "    for item in x:\n",
    "        a.append(1/(1+math.exp(-item)))\n",
    "    return a\n",
    "\n",
    "x_vals = np.arange(-10., 10., 0.2)\n",
    "sig = sigmoid(x_vals)\n",
    "plt.plot(x_vals,sig)\n",
    "plt.show()"
   ]
  },
  {
   "cell_type": "code",
   "execution_count": 15,
   "metadata": {
    "collapsed": false
   },
   "outputs": [],
   "source": [
    "# Training operation: gradient descent step\n",
    "# TensorFlow automatically takes care of the gradient calculations\n",
    "train_step = tf.train.GradientDescentOptimizer(.01).minimize(loss)\n",
    "\n",
    "# Get ready to run TensorFlow - set up the session\n",
    "sess = tf.InteractiveSession() # create the sesion object\n",
    "tf.global_variables_initializer().run() # initialize variables"
   ]
  },
  {
   "cell_type": "code",
   "execution_count": 16,
   "metadata": {
    "collapsed": false
   },
   "outputs": [],
   "source": [
    "# Run gradient descent\n",
    "for i in range(10000):\n",
    "    batch_xs, batch_ys = generate_batch(100) # get the x training batch and y training batch\n",
    "    sess.run(train_step, feed_dict={x: batch_xs, y_: batch_ys}) # this evaluates the computational graph\n",
    "        # passes batch_xs in for the x placeholder, batch_ys in for the y_ placeholder"
   ]
  },
  {
   "cell_type": "code",
   "execution_count": 17,
   "metadata": {
    "collapsed": true
   },
   "outputs": [],
   "source": [
    "# Define accuracy-evaluation operations\n",
    "\n",
    "# list of booleans: whether each each example's highest predicted value matches actual value\n",
    "correct_prediction = tf.equal(tf.argmax(y,1), tf.argmax(y_,1))\n",
    "\n",
    "# take the average over that list to calculate accuracy\n",
    "accuracy = tf.reduce_mean(tf.cast(correct_prediction, tf.float32)) "
   ]
  },
  {
   "cell_type": "code",
   "execution_count": 18,
   "metadata": {
    "collapsed": false
   },
   "outputs": [
    {
     "name": "stdout",
     "output_type": "stream",
     "text": [
      "0.779412\n"
     ]
    }
   ],
   "source": [
    "# Evaluate accuracy on test set\n",
    "print(sess.run(accuracy, feed_dict={x: test_x, y_: test_y}))"
   ]
  },
  {
   "cell_type": "code",
   "execution_count": null,
   "metadata": {
    "collapsed": true
   },
   "outputs": [],
   "source": []
  }
 ],
 "metadata": {
  "kernelspec": {
   "display_name": "Python [default]",
   "language": "python",
   "name": "python3"
  },
  "language_info": {
   "codemirror_mode": {
    "name": "ipython",
    "version": 3
   },
   "file_extension": ".py",
   "mimetype": "text/x-python",
   "name": "python",
   "nbconvert_exporter": "python",
   "pygments_lexer": "ipython3",
   "version": "3.5.2"
  }
 },
 "nbformat": 4,
 "nbformat_minor": 2
}
